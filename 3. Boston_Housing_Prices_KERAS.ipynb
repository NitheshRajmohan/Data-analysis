{
 "cells": [
  {
   "cell_type": "markdown",
   "metadata": {
    "colab_type": "text",
    "id": "XQd7q6QVtjuq"
   },
   "source": [
    "### Load tensorflow"
   ]
  },
  {
   "cell_type": "code",
   "execution_count": 2,
   "metadata": {
    "colab": {},
    "colab_type": "code",
    "id": "nmoXXaDCtjur"
   },
   "outputs": [],
   "source": [
    "import tensorflow as tf\n",
    "tf.compat.v1.reset_default_graph()"
   ]
  },
  {
   "cell_type": "markdown",
   "metadata": {
    "colab_type": "text",
    "id": "b2Hh5BOStjuv"
   },
   "source": [
    "### Collect Data"
   ]
  },
  {
   "cell_type": "code",
   "execution_count": 3,
   "metadata": {
    "colab": {
     "base_uri": "https://localhost:8080/",
     "height": 51
    },
    "colab_type": "code",
    "executionInfo": {
     "elapsed": 1490,
     "status": "ok",
     "timestamp": 1564634864734,
     "user": {
      "displayName": "Sayan Dey",
      "photoUrl": "https://lh6.googleusercontent.com/-0q7P6YGnOQU/AAAAAAAAAAI/AAAAAAAAA1U/625Wgh-nUjg/s64/photo.jpg",
      "userId": "03603580465490055794"
     },
     "user_tz": -330
    },
    "id": "B7RVc9Ettjuw",
    "outputId": "52fd8b67-2236-4eb6-9e69-935b568a8550"
   },
   "outputs": [],
   "source": [
    "(features, actual_prices),_ = tf.keras.datasets.boston_housing.load_data(test_split=0)"
   ]
  },
  {
   "cell_type": "code",
   "execution_count": 4,
   "metadata": {
    "colab": {
     "base_uri": "https://localhost:8080/",
     "height": 68
    },
    "colab_type": "code",
    "executionInfo": {
     "elapsed": 1072,
     "status": "ok",
     "timestamp": 1564634864736,
     "user": {
      "displayName": "Sayan Dey",
      "photoUrl": "https://lh6.googleusercontent.com/-0q7P6YGnOQU/AAAAAAAAAAI/AAAAAAAAA1U/625Wgh-nUjg/s64/photo.jpg",
      "userId": "03603580465490055794"
     },
     "user_tz": -330
    },
    "id": "Liir8Uw2tjuz",
    "outputId": "044415d5-7266-4a64-b92a-a51a09232764"
   },
   "outputs": [
    {
     "name": "stdout",
     "output_type": "stream",
     "text": [
      "Number of examples:  506\n",
      "Number of features for each example:  13\n",
      "Shape of actual prices data:  (506,)\n"
     ]
    }
   ],
   "source": [
    "print('Number of examples: ', features.shape[0])\n",
    "print('Number of features for each example: ', features.shape[1])\n",
    "print('Shape of actual prices data: ', actual_prices.shape)"
   ]
  },
  {
   "cell_type": "markdown",
   "metadata": {
    "colab_type": "text",
    "id": "VYKevQtMtju2"
   },
   "source": [
    "### Building the graph in Keras"
   ]
  },
  {
   "cell_type": "code",
   "execution_count": 5,
   "metadata": {
    "colab": {
     "base_uri": "https://localhost:8080/",
     "height": 106
    },
    "colab_type": "code",
    "executionInfo": {
     "elapsed": 1423,
     "status": "ok",
     "timestamp": 1564634891597,
     "user": {
      "displayName": "Sayan Dey",
      "photoUrl": "https://lh6.googleusercontent.com/-0q7P6YGnOQU/AAAAAAAAAAI/AAAAAAAAA1U/625Wgh-nUjg/s64/photo.jpg",
      "userId": "03603580465490055794"
     },
     "user_tz": -330
    },
    "id": "DwqnAbMttju3",
    "outputId": "a64a102f-e54c-4db0-e846-03b1324f0262"
   },
   "outputs": [],
   "source": [
    "#Initialize Sequential Graph (model)\n",
    "model = tf.keras.models.Sequential()\n",
    "\n",
    "#Normalize input data\n",
    "model.add(tf.keras.layers.BatchNormalization(input_shape=(13,)))\n",
    "\n",
    "#Add Dense layer for prediction - Keras declares weights and bias automatically\n",
    "model.add(tf.keras.layers.Dense(1))\n",
    "\n",
    "#Compile the model - add Loss and Gradient Descent optimizer\n",
    "model.compile(optimizer='sgd', loss='mse')"
   ]
  },
  {
   "cell_type": "markdown",
   "metadata": {
    "colab_type": "text",
    "id": "kbXIWW5Ptju6"
   },
   "source": [
    "### Execute the Graph"
   ]
  },
  {
   "cell_type": "code",
   "execution_count": 6,
   "metadata": {
    "colab": {
     "base_uri": "https://localhost:8080/",
     "height": 1000
    },
    "colab_type": "code",
    "executionInfo": {
     "elapsed": 5857,
     "status": "ok",
     "timestamp": 1564635144890,
     "user": {
      "displayName": "Sayan Dey",
      "photoUrl": "https://lh6.googleusercontent.com/-0q7P6YGnOQU/AAAAAAAAAAI/AAAAAAAAA1U/625Wgh-nUjg/s64/photo.jpg",
      "userId": "03603580465490055794"
     },
     "user_tz": -330
    },
    "id": "fil-3oQVtju7",
    "outputId": "80911e7e-3d9d-419a-f6c6-029096c81052"
   },
   "outputs": [
    {
     "name": "stdout",
     "output_type": "stream",
     "text": [
      "Train on 506 samples\n",
      "Epoch 1/100\n",
      "506/506 [==============================] - 1s 2ms/sample - loss: 162.5958\n",
      "Epoch 2/100\n",
      "506/506 [==============================] - 0s 68us/sample - loss: 33.1881\n",
      "Epoch 3/100\n",
      "506/506 [==============================] - 0s 56us/sample - loss: 35.1401\n",
      "Epoch 4/100\n",
      "506/506 [==============================] - 0s 67us/sample - loss: 34.0597\n",
      "Epoch 5/100\n",
      "506/506 [==============================] - 0s 54us/sample - loss: 34.6267\n",
      "Epoch 6/100\n",
      "506/506 [==============================] - 0s 69us/sample - loss: 31.2789\n",
      "Epoch 7/100\n",
      "506/506 [==============================] - 0s 51us/sample - loss: 28.0180\n",
      "Epoch 8/100\n",
      "506/506 [==============================] - 0s 68us/sample - loss: 33.6391\n",
      "Epoch 9/100\n",
      "506/506 [==============================] - 0s 47us/sample - loss: 30.1985\n",
      "Epoch 10/100\n",
      "506/506 [==============================] - 0s 88us/sample - loss: 31.2035\n",
      "Epoch 11/100\n",
      "506/506 [==============================] - 0s 73us/sample - loss: 30.0838\n",
      "Epoch 12/100\n",
      "506/506 [==============================] - 0s 88us/sample - loss: 29.5782\n",
      "Epoch 13/100\n",
      "506/506 [==============================] - 0s 76us/sample - loss: 29.1431\n",
      "Epoch 14/100\n",
      "506/506 [==============================] - 0s 78us/sample - loss: 28.5760\n",
      "Epoch 15/100\n",
      "506/506 [==============================] - 0s 79us/sample - loss: 26.9565\n",
      "Epoch 16/100\n",
      "506/506 [==============================] - 0s 74us/sample - loss: 27.2343\n",
      "Epoch 17/100\n",
      "506/506 [==============================] - 0s 63us/sample - loss: 27.5227\n",
      "Epoch 18/100\n",
      "506/506 [==============================] - 0s 76us/sample - loss: 29.5368\n",
      "Epoch 19/100\n",
      "506/506 [==============================] - 0s 70us/sample - loss: 25.6518\n",
      "Epoch 20/100\n",
      "506/506 [==============================] - 0s 62us/sample - loss: 25.6165\n",
      "Epoch 21/100\n",
      "506/506 [==============================] - 0s 62us/sample - loss: 26.3351\n",
      "Epoch 22/100\n",
      "506/506 [==============================] - 0s 57us/sample - loss: 27.1871\n",
      "Epoch 23/100\n",
      "506/506 [==============================] - 0s 62us/sample - loss: 26.0367\n",
      "Epoch 24/100\n",
      "506/506 [==============================] - 0s 67us/sample - loss: 28.4586\n",
      "Epoch 25/100\n",
      "506/506 [==============================] - 0s 61us/sample - loss: 27.5382\n",
      "Epoch 26/100\n",
      "506/506 [==============================] - 0s 72us/sample - loss: 31.4167\n",
      "Epoch 27/100\n",
      "506/506 [==============================] - 0s 53us/sample - loss: 31.2802\n",
      "Epoch 28/100\n",
      "506/506 [==============================] - 0s 68us/sample - loss: 26.3723\n",
      "Epoch 29/100\n",
      "506/506 [==============================] - 0s 62us/sample - loss: 30.1880\n",
      "Epoch 30/100\n",
      "506/506 [==============================] - 0s 64us/sample - loss: 26.4113\n",
      "Epoch 31/100\n",
      "506/506 [==============================] - 0s 48us/sample - loss: 27.4872\n",
      "Epoch 32/100\n",
      "506/506 [==============================] - 0s 55us/sample - loss: 26.3690\n",
      "Epoch 33/100\n",
      "506/506 [==============================] - 0s 56us/sample - loss: 33.3181\n",
      "Epoch 34/100\n",
      "506/506 [==============================] - 0s 47us/sample - loss: 28.0403\n",
      "Epoch 35/100\n",
      "506/506 [==============================] - 0s 48us/sample - loss: 24.1720\n",
      "Epoch 36/100\n",
      "506/506 [==============================] - 0s 49us/sample - loss: 26.0041\n",
      "Epoch 37/100\n",
      "506/506 [==============================] - 0s 70us/sample - loss: 28.1183\n",
      "Epoch 38/100\n",
      "506/506 [==============================] - 0s 74us/sample - loss: 27.5471\n",
      "Epoch 39/100\n",
      "506/506 [==============================] - 0s 86us/sample - loss: 26.8405\n",
      "Epoch 40/100\n",
      "506/506 [==============================] - 0s 72us/sample - loss: 31.3318\n",
      "Epoch 41/100\n",
      "506/506 [==============================] - 0s 74us/sample - loss: 28.6426\n",
      "Epoch 42/100\n",
      "506/506 [==============================] - 0s 75us/sample - loss: 27.9477\n",
      "Epoch 43/100\n",
      "506/506 [==============================] - 0s 57us/sample - loss: 25.9412\n",
      "Epoch 44/100\n",
      "506/506 [==============================] - 0s 71us/sample - loss: 28.3281\n",
      "Epoch 45/100\n",
      "506/506 [==============================] - 0s 80us/sample - loss: 26.9459\n",
      "Epoch 46/100\n",
      "506/506 [==============================] - 0s 53us/sample - loss: 32.1906\n",
      "Epoch 47/100\n",
      "506/506 [==============================] - 0s 59us/sample - loss: 26.1436\n",
      "Epoch 48/100\n",
      "506/506 [==============================] - 0s 73us/sample - loss: 24.8944\n",
      "Epoch 49/100\n",
      "506/506 [==============================] - 0s 61us/sample - loss: 31.0353\n",
      "Epoch 50/100\n",
      "506/506 [==============================] - 0s 76us/sample - loss: 26.0666\n",
      "Epoch 51/100\n",
      "506/506 [==============================] - 0s 93us/sample - loss: 29.8669\n",
      "Epoch 52/100\n",
      "506/506 [==============================] - 0s 97us/sample - loss: 25.1273\n",
      "Epoch 53/100\n",
      "506/506 [==============================] - 0s 160us/sample - loss: 27.6666\n",
      "Epoch 54/100\n",
      "506/506 [==============================] - 0s 91us/sample - loss: 24.5177\n",
      "Epoch 55/100\n",
      "506/506 [==============================] - 0s 68us/sample - loss: 27.3207\n",
      "Epoch 56/100\n",
      "506/506 [==============================] - 0s 59us/sample - loss: 25.8469\n",
      "Epoch 57/100\n",
      "506/506 [==============================] - 0s 62us/sample - loss: 28.2196\n",
      "Epoch 58/100\n",
      "506/506 [==============================] - 0s 44us/sample - loss: 26.0520\n",
      "Epoch 59/100\n",
      "506/506 [==============================] - 0s 60us/sample - loss: 27.1831\n",
      "Epoch 60/100\n",
      "506/506 [==============================] - 0s 62us/sample - loss: 31.2138\n",
      "Epoch 61/100\n",
      "506/506 [==============================] - 0s 56us/sample - loss: 29.8111\n",
      "Epoch 62/100\n",
      "506/506 [==============================] - 0s 66us/sample - loss: 26.0900\n",
      "Epoch 63/100\n",
      "506/506 [==============================] - 0s 64us/sample - loss: 29.3273\n",
      "Epoch 64/100\n",
      "506/506 [==============================] - 0s 70us/sample - loss: 26.2322\n",
      "Epoch 65/100\n",
      "506/506 [==============================] - 0s 51us/sample - loss: 26.2254\n",
      "Epoch 66/100\n",
      "506/506 [==============================] - 0s 60us/sample - loss: 27.6533\n",
      "Epoch 67/100\n",
      "506/506 [==============================] - 0s 50us/sample - loss: 30.1892\n",
      "Epoch 68/100\n",
      "506/506 [==============================] - 0s 58us/sample - loss: 28.5819\n",
      "Epoch 69/100\n",
      "506/506 [==============================] - 0s 66us/sample - loss: 26.4516\n",
      "Epoch 70/100\n",
      "506/506 [==============================] - 0s 70us/sample - loss: 27.9633\n",
      "Epoch 71/100\n",
      "506/506 [==============================] - 0s 83us/sample - loss: 28.7208\n",
      "Epoch 72/100\n",
      "506/506 [==============================] - 0s 81us/sample - loss: 29.2452\n",
      "Epoch 73/100\n",
      "506/506 [==============================] - 0s 76us/sample - loss: 24.2311\n",
      "Epoch 74/100\n",
      "506/506 [==============================] - 0s 92us/sample - loss: 29.6766\n",
      "Epoch 75/100\n",
      "506/506 [==============================] - 0s 98us/sample - loss: 26.1007\n",
      "Epoch 76/100\n",
      "506/506 [==============================] - 0s 67us/sample - loss: 29.2931\n",
      "Epoch 77/100\n",
      "506/506 [==============================] - 0s 55us/sample - loss: 29.3478\n",
      "Epoch 78/100\n",
      "506/506 [==============================] - 0s 70us/sample - loss: 30.5541\n",
      "Epoch 79/100\n",
      "506/506 [==============================] - 0s 69us/sample - loss: 26.4056\n",
      "Epoch 80/100\n",
      "506/506 [==============================] - 0s 59us/sample - loss: 28.9264\n",
      "Epoch 81/100\n",
      "506/506 [==============================] - 0s 88us/sample - loss: 27.9193\n",
      "Epoch 82/100\n",
      "506/506 [==============================] - 0s 116us/sample - loss: 29.3591\n",
      "Epoch 83/100\n",
      "506/506 [==============================] - 0s 144us/sample - loss: 26.7403\n",
      "Epoch 84/100\n",
      "506/506 [==============================] - 0s 128us/sample - loss: 34.7382\n",
      "Epoch 85/100\n",
      "506/506 [==============================] - 0s 128us/sample - loss: 27.2976\n",
      "Epoch 86/100\n",
      "506/506 [==============================] - 0s 80us/sample - loss: 26.0649\n",
      "Epoch 87/100\n",
      "506/506 [==============================] - 0s 73us/sample - loss: 29.0399\n",
      "Epoch 88/100\n",
      "506/506 [==============================] - 0s 99us/sample - loss: 28.4865\n",
      "Epoch 89/100\n",
      "506/506 [==============================] - 0s 82us/sample - loss: 26.9837\n",
      "Epoch 90/100\n",
      "506/506 [==============================] - 0s 101us/sample - loss: 28.3744\n",
      "Epoch 91/100\n",
      "506/506 [==============================] - 0s 81us/sample - loss: 26.8125\n",
      "Epoch 92/100\n",
      "506/506 [==============================] - 0s 85us/sample - loss: 26.4623\n",
      "Epoch 93/100\n",
      "506/506 [==============================] - 0s 46us/sample - loss: 28.9297\n",
      "Epoch 94/100\n",
      "506/506 [==============================] - 0s 63us/sample - loss: 26.0652\n"
     ]
    },
    {
     "name": "stdout",
     "output_type": "stream",
     "text": [
      "Epoch 95/100\n",
      "506/506 [==============================] - 0s 58us/sample - loss: 25.0119\n",
      "Epoch 96/100\n",
      "506/506 [==============================] - 0s 56us/sample - loss: 27.9933\n",
      "Epoch 97/100\n",
      "506/506 [==============================] - 0s 50us/sample - loss: 33.5515\n",
      "Epoch 98/100\n",
      "506/506 [==============================] - 0s 67us/sample - loss: 28.4520\n",
      "Epoch 99/100\n",
      "506/506 [==============================] - 0s 63us/sample - loss: 26.7529\n",
      "Epoch 100/100\n",
      "506/506 [==============================] - 0s 59us/sample - loss: 26.6886\n"
     ]
    },
    {
     "data": {
      "text/plain": [
       "<tensorflow.python.keras.callbacks.History at 0x7f2638430f90>"
      ]
     },
     "execution_count": 6,
     "metadata": {},
     "output_type": "execute_result"
    }
   ],
   "source": [
    "model.fit(features, actual_prices, epochs=100)"
   ]
  },
  {
   "cell_type": "code",
   "execution_count": 7,
   "metadata": {
    "colab": {
     "base_uri": "https://localhost:8080/",
     "height": 224
    },
    "colab_type": "code",
    "executionInfo": {
     "elapsed": 1428,
     "status": "ok",
     "timestamp": 1564635191114,
     "user": {
      "displayName": "Sayan Dey",
      "photoUrl": "https://lh6.googleusercontent.com/-0q7P6YGnOQU/AAAAAAAAAAI/AAAAAAAAA1U/625Wgh-nUjg/s64/photo.jpg",
      "userId": "03603580465490055794"
     },
     "user_tz": -330
    },
    "id": "Lg7i2U_8hhmQ",
    "outputId": "37b9d288-6d1a-4092-ef22-06db1d903aaf"
   },
   "outputs": [
    {
     "name": "stdout",
     "output_type": "stream",
     "text": [
      "Model: \"sequential\"\n",
      "_________________________________________________________________\n",
      "Layer (type)                 Output Shape              Param #   \n",
      "=================================================================\n",
      "batch_normalization (BatchNo (None, 13)                52        \n",
      "_________________________________________________________________\n",
      "dense (Dense)                (None, 1)                 14        \n",
      "=================================================================\n",
      "Total params: 66\n",
      "Trainable params: 40\n",
      "Non-trainable params: 26\n",
      "_________________________________________________________________\n"
     ]
    }
   ],
   "source": [
    "model.summary()"
   ]
  },
  {
   "cell_type": "markdown",
   "metadata": {
    "colab_type": "text",
    "id": "WEcEbkRhtju9"
   },
   "source": [
    "### Save the model"
   ]
  },
  {
   "cell_type": "code",
   "execution_count": 8,
   "metadata": {
    "colab": {},
    "colab_type": "code",
    "id": "theE0__Ltju-"
   },
   "outputs": [],
   "source": [
    "model.save('boston_housing_lr.h5')"
   ]
  },
  {
   "cell_type": "code",
   "execution_count": 9,
   "metadata": {
    "colab": {},
    "colab_type": "code",
    "id": "0wIHJa-lVT-J"
   },
   "outputs": [
    {
     "data": {
      "text/plain": [
       "'{\"class_name\": \"Sequential\", \"config\": {\"name\": \"sequential\", \"layers\": [{\"class_name\": \"BatchNormalization\", \"config\": {\"name\": \"batch_normalization\", \"trainable\": true, \"batch_input_shape\": [null, 13], \"dtype\": \"float32\", \"axis\": [1], \"momentum\": 0.99, \"epsilon\": 0.001, \"center\": true, \"scale\": true, \"beta_initializer\": {\"class_name\": \"Zeros\", \"config\": {}}, \"gamma_initializer\": {\"class_name\": \"Ones\", \"config\": {}}, \"moving_mean_initializer\": {\"class_name\": \"Zeros\", \"config\": {}}, \"moving_variance_initializer\": {\"class_name\": \"Ones\", \"config\": {}}, \"beta_regularizer\": null, \"gamma_regularizer\": null, \"beta_constraint\": null, \"gamma_constraint\": null}}, {\"class_name\": \"Dense\", \"config\": {\"name\": \"dense\", \"trainable\": true, \"dtype\": \"float32\", \"units\": 1, \"activation\": \"linear\", \"use_bias\": true, \"kernel_initializer\": {\"class_name\": \"GlorotUniform\", \"config\": {\"seed\": null}}, \"bias_initializer\": {\"class_name\": \"Zeros\", \"config\": {}}, \"kernel_regularizer\": null, \"bias_regularizer\": null, \"activity_regularizer\": null, \"kernel_constraint\": null, \"bias_constraint\": null}}]}, \"keras_version\": \"2.2.4-tf\", \"backend\": \"tensorflow\"}'"
      ]
     },
     "execution_count": 9,
     "metadata": {},
     "output_type": "execute_result"
    }
   ],
   "source": [
    "model.to_json()"
   ]
  },
  {
   "cell_type": "code",
   "execution_count": 0,
   "metadata": {
    "colab": {},
    "colab_type": "code",
    "id": "I6pAcNJNVhex"
   },
   "outputs": [],
   "source": []
  }
 ],
 "metadata": {
  "accelerator": "GPU",
  "colab": {
   "collapsed_sections": [],
   "name": "3. Boston_Housing_Prices_KERAS.ipynb",
   "provenance": [],
   "version": "0.3.2"
  },
  "kernelspec": {
   "display_name": "Python 3",
   "language": "python",
   "name": "python3"
  },
  "language_info": {
   "codemirror_mode": {
    "name": "ipython",
    "version": 3
   },
   "file_extension": ".py",
   "mimetype": "text/x-python",
   "name": "python",
   "nbconvert_exporter": "python",
   "pygments_lexer": "ipython3",
   "version": "3.7.6"
  }
 },
 "nbformat": 4,
 "nbformat_minor": 1
}
